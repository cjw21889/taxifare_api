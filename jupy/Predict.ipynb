{
 "cells": [
  {
   "cell_type": "markdown",
   "metadata": {},
   "source": [
    "# Get test data"
   ]
  },
  {
   "cell_type": "code",
   "execution_count": 1,
   "metadata": {
    "ExecuteTime": {
     "end_time": "2020-11-12T19:48:23.719879Z",
     "start_time": "2020-11-12T19:48:21.595065Z"
    }
   },
   "outputs": [],
   "source": [
    "import pandas as pd\n",
    "url = \"gs://wagon-data/data/bq_complete.csv\"\n",
    "df = pd.read_csv(url, nrows=1000)"
   ]
  },
  {
   "cell_type": "code",
   "execution_count": 2,
   "metadata": {
    "ExecuteTime": {
     "end_time": "2020-11-12T19:48:25.869997Z",
     "start_time": "2020-11-12T19:48:25.860073Z"
    }
   },
   "outputs": [
    {
     "data": {
      "text/plain": [
       "(1000, 9)"
      ]
     },
     "execution_count": 2,
     "metadata": {},
     "output_type": "execute_result"
    }
   ],
   "source": [
    "df.shape"
   ]
  },
  {
   "cell_type": "code",
   "execution_count": 3,
   "metadata": {
    "ExecuteTime": {
     "end_time": "2020-11-12T19:48:43.676673Z",
     "start_time": "2020-11-12T19:48:43.656227Z"
    }
   },
   "outputs": [],
   "source": [
    "df = df.dropna(how='any',  axis='rows')\n",
    "instances = df.drop(\"fare_amount\", axis=1).to_dict(orient=\"records\")"
   ]
  },
  {
   "cell_type": "code",
   "execution_count": 4,
   "metadata": {
    "ExecuteTime": {
     "end_time": "2020-11-12T19:48:45.683279Z",
     "start_time": "2020-11-12T19:48:45.678826Z"
    }
   },
   "outputs": [
    {
     "data": {
      "text/plain": [
       "[{'dropoff_latitude': 40.758092,\n",
       "  'dropoff_longitude': -73.991567,\n",
       "  'key': '2012-04-21 04:30:42.0000001',\n",
       "  'passenger_count': 1,\n",
       "  'pickup_datetime': '2012-04-21 04:30:42 UTC',\n",
       "  'pickup_latitude': 40.733143,\n",
       "  'pickup_longitude': -73.98713000000002,\n",
       "  'test': False},\n",
       " {'dropoff_latitude': 40.783762,\n",
       "  'dropoff_longitude': -73.956655,\n",
       "  'key': '2010-03-09 07:51:00.000000135',\n",
       "  'passenger_count': 1,\n",
       "  'pickup_datetime': '2010-03-09 07:51:00 UTC',\n",
       "  'pickup_latitude': 40.768008,\n",
       "  'pickup_longitude': -73.96809499999998,\n",
       "  'test': False}]"
      ]
     },
     "execution_count": 4,
     "metadata": {},
     "output_type": "execute_result"
    }
   ],
   "source": [
    "instances[3:5]"
   ]
  },
  {
   "cell_type": "markdown",
   "metadata": {},
   "source": [
    "# Ask API for prediction"
   ]
  },
  {
   "cell_type": "code",
   "execution_count": 39,
   "metadata": {
    "ExecuteTime": {
     "end_time": "2020-11-12T20:02:53.308637Z",
     "start_time": "2020-11-12T20:02:53.305966Z"
    }
   },
   "outputs": [],
   "source": [
    "api_url = \"http://127.0.0.1:8080/\"\n",
    "# api_url = \"https://wagon-api-jean.herokuapp.com/\"  "
   ]
  },
  {
   "cell_type": "code",
   "execution_count": 40,
   "metadata": {
    "ExecuteTime": {
     "end_time": "2020-11-12T20:02:54.248750Z",
     "start_time": "2020-11-12T20:02:54.196465Z"
    }
   },
   "outputs": [
    {
     "name": "stdout",
     "output_type": "stream",
     "text": [
      "CPU times: user 3.63 ms, sys: 1.21 ms, total: 4.84 ms\n",
      "Wall time: 48.1 ms\n"
     ]
    }
   ],
   "source": [
    "%%time\n",
    "import requests\n",
    "r = requests.get(api_url+\"predict_fare\", json=instances[22:30])#, headers = {'content-type': 'application/json', 'Accept-Charset': 'UTF-8'})\n"
   ]
  },
  {
   "cell_type": "code",
   "execution_count": 41,
   "metadata": {
    "ExecuteTime": {
     "end_time": "2020-11-12T20:02:54.378909Z",
     "start_time": "2020-11-12T20:02:54.374761Z"
    }
   },
   "outputs": [
    {
     "data": {
      "text/plain": [
       "{'predictions': [5.648, 6.563, 6.409, 7.598, 7.904, 5.092, 10.877, 5.123]}"
      ]
     },
     "execution_count": 41,
     "metadata": {},
     "output_type": "execute_result"
    }
   ],
   "source": [
    "r.json()"
   ]
  },
  {
   "cell_type": "code",
   "execution_count": 42,
   "metadata": {
    "ExecuteTime": {
     "end_time": "2020-11-12T20:02:54.577868Z",
     "start_time": "2020-11-12T20:02:54.572320Z"
    }
   },
   "outputs": [
    {
     "data": {
      "text/plain": [
       "22    4.5\n",
       "23    4.9\n",
       "24    6.1\n",
       "25    7.3\n",
       "26    6.5\n",
       "27    4.5\n",
       "28    9.3\n",
       "29    4.5\n",
       "Name: fare_amount, dtype: float64"
      ]
     },
     "execution_count": 42,
     "metadata": {},
     "output_type": "execute_result"
    }
   ],
   "source": [
    "y_true = df.fare_amount[22:30].copy()\n",
    "y_true"
   ]
  },
  {
   "cell_type": "code",
   "execution_count": 43,
   "metadata": {
    "ExecuteTime": {
     "end_time": "2020-11-12T20:02:55.118133Z",
     "start_time": "2020-11-12T20:02:55.113956Z"
    }
   },
   "outputs": [
    {
     "data": {
      "text/plain": [
       "[5.648, 6.563, 6.409, 7.598, 7.904, 5.092, 10.877, 5.123]"
      ]
     },
     "execution_count": 43,
     "metadata": {},
     "output_type": "execute_result"
    }
   ],
   "source": [
    "y_pred = r.json()['predictions']\n",
    "y_pred"
   ]
  },
  {
   "cell_type": "code",
   "execution_count": 44,
   "metadata": {
    "ExecuteTime": {
     "end_time": "2020-11-12T20:02:55.505006Z",
     "start_time": "2020-11-12T20:02:55.500799Z"
    }
   },
   "outputs": [
    {
     "data": {
      "text/plain": [
       "7.613999999999999"
      ]
     },
     "execution_count": 44,
     "metadata": {},
     "output_type": "execute_result"
    }
   ],
   "source": [
    "var = (y_pred - y_true).sum()\n",
    "var"
   ]
  },
  {
   "cell_type": "code",
   "execution_count": 45,
   "metadata": {
    "ExecuteTime": {
     "end_time": "2020-11-12T20:02:56.079083Z",
     "start_time": "2020-11-12T20:02:56.075721Z"
    }
   },
   "outputs": [
    {
     "name": "stdout",
     "output_type": "stream",
     "text": [
      "Prediction Variance: 15.996%\n"
     ]
    }
   ],
   "source": [
    "print(f'Prediction Variance: {round((var / y_true.sum()) * 100, 3)}%')"
   ]
  },
  {
   "cell_type": "code",
   "execution_count": null,
   "metadata": {},
   "outputs": [],
   "source": []
  }
 ],
 "metadata": {
  "kernelspec": {
   "display_name": "Python 3",
   "language": "python",
   "name": "python3"
  },
  "language_info": {
   "codemirror_mode": {
    "name": "ipython",
    "version": 3
   },
   "file_extension": ".py",
   "mimetype": "text/x-python",
   "name": "python",
   "nbconvert_exporter": "python",
   "pygments_lexer": "ipython3",
   "version": "3.7.7"
  },
  "pycharm": {
   "stem_cell": {
    "cell_type": "raw",
    "metadata": {
     "collapsed": false
    },
    "source": []
   }
  },
  "toc": {
   "base_numbering": 1,
   "nav_menu": {},
   "number_sections": true,
   "sideBar": true,
   "skip_h1_title": false,
   "title_cell": "Table of Contents",
   "title_sidebar": "Contents",
   "toc_cell": false,
   "toc_position": {},
   "toc_section_display": true,
   "toc_window_display": false
  },
  "varInspector": {
   "cols": {
    "lenName": 16,
    "lenType": 16,
    "lenVar": 40
   },
   "kernels_config": {
    "python": {
     "delete_cmd_postfix": "",
     "delete_cmd_prefix": "del ",
     "library": "var_list.py",
     "varRefreshCmd": "print(var_dic_list())"
    },
    "r": {
     "delete_cmd_postfix": ") ",
     "delete_cmd_prefix": "rm(",
     "library": "var_list.r",
     "varRefreshCmd": "cat(var_dic_list()) "
    }
   },
   "types_to_exclude": [
    "module",
    "function",
    "builtin_function_or_method",
    "instance",
    "_Feature"
   ],
   "window_display": false
  }
 },
 "nbformat": 4,
 "nbformat_minor": 4
}
